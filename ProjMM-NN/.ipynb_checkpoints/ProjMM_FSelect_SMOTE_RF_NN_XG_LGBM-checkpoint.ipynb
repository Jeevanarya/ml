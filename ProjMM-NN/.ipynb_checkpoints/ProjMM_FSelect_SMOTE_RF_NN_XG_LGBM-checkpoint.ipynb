{
  "nbformat": 4,
  "nbformat_minor": 0,
  "metadata": {
    "colab": {
      "provenance": []
    },
    "kernelspec": {
      "name": "python3",
      "display_name": "Python 3"
    },
    "language_info": {
      "name": "python"
    }
  },
  "cells": [
    {
      "cell_type": "markdown",
      "source": [
        "Balance Classes (SMOTE or Class Weighting) to improve Class 1 recall.\n",
        "\n",
        "Experiment with more features (top 15 instead of 21).\n",
        "First Try with RandomForest then\n",
        "Try advanced models (e.g., XGBoost, LightGBM).\n",
        "\n",
        "You can also train an ANN with these top features."
      ],
      "metadata": {
        "id": "BUxV7qvBKv3A"
      }
    },
    {
      "cell_type": "markdown",
      "source": [
        "Selecting Top-K features using SelectKBest (f_classif)\n",
        "\n",
        "Training a model (RandomForest)"
      ],
      "metadata": {
        "id": "Ouq8gbCMK4hg"
      }
    },
    {
      "cell_type": "code",
      "execution_count": 52,
      "metadata": {
        "id": "4m3rHXq9JzKL"
      },
      "outputs": [],
      "source": [
        "from sklearn.feature_selection import SelectKBest, f_classif\n",
        "import pandas as pd"
      ]
    },
    {
      "cell_type": "code",
      "source": [
        "from google.colab import drive\n",
        "drive.mount('/content/drive')"
      ],
      "metadata": {
        "colab": {
          "base_uri": "https://localhost:8080/"
        },
        "id": "B86DY6QjLsQ8",
        "outputId": "fe8ca6a7-d909-4abd-f93f-87b48120a6fd"
      },
      "execution_count": 53,
      "outputs": [
        {
          "output_type": "stream",
          "name": "stdout",
          "text": [
            "Drive already mounted at /content/drive; to attempt to forcibly remount, call drive.mount(\"/content/drive\", force_remount=True).\n"
          ]
        }
      ]
    },
    {
      "cell_type": "code",
      "source": [
        "#load data from drive Data/00_Data.xlsx\n",
        "df = pd.read_excel('/content/drive/MyDrive/data/00_Data.xlsx')\n",
        "\n",
        "#print NA data\n",
        "#print(df.isna().sum())\n",
        "\n",
        "#remove NA rows\n",
        "df = df.dropna()\n",
        "\n",
        "y = df['DEFECTIVE']\n",
        "X = df.drop('DEFECTIVE', axis=1)"
      ],
      "metadata": {
        "id": "5xK2H-EzLu3G"
      },
      "execution_count": 54,
      "outputs": []
    },
    {
      "cell_type": "markdown",
      "source": [
        "## Apply SelectKBest with f_classif"
      ],
      "metadata": {
        "id": "yJHzez0iaHBO"
      }
    },
    {
      "cell_type": "code",
      "source": [
        "# Apply SelectKBest with f_classif\n",
        "def select_k_best_features(X, y, k_f):\n",
        "  selector = SelectKBest(score_func=f_classif, k=k_f)\n",
        "  X_selected = selector.fit_transform(X, y)\n",
        "\n",
        "  # Prepare DataFrame with Feature Names and Scores\n",
        "  feature_scores_df = pd.DataFrame({\n",
        "      'Feature': X.columns,\n",
        "      'Score': selector.scores_\n",
        "  })\n",
        "\n",
        "  # Get selected feature names\n",
        "  selected_feature_names = X.columns[selector.get_support()]\n",
        "\n",
        "  print(f\"\\nTop {k_f} Selected Features:\")\n",
        "  print(selected_feature_names.tolist())\n",
        "  #short values based in score\n",
        "  feature_scores_df = feature_scores_df.sort_values(by='Score', ascending=False)\n",
        "  return X_selected, feature_scores_df\n"
      ],
      "metadata": {
        "id": "jKYeyMcZMG2O"
      },
      "execution_count": 55,
      "outputs": []
    },
    {
      "cell_type": "markdown",
      "source": [
        "## RandomForest Classifier model"
      ],
      "metadata": {
        "id": "tW5FXzDlMLOO"
      }
    },
    {
      "cell_type": "code",
      "source": [
        "# Train-Test Split\n",
        "from sklearn.model_selection import train_test_split\n",
        "from sklearn.ensemble import RandomForestClassifier\n",
        "from sklearn.metrics import classification_report\n",
        "import matplotlib.pyplot as plt\n",
        "\n",
        "def rf_train_test_split(X, y, test_size=0.2, random_state=42):\n",
        "\n",
        "  X_train, X_test, y_train, y_test = train_test_split(X, y, test_size=0.2, random_state=42)\n",
        "  # RandomForest Classifier\n",
        "  model = RandomForestClassifier(n_estimators=100, random_state=42)\n",
        "  model.fit(X_train, y_train)\n",
        "\n",
        "  # Prediction & Evaluation\n",
        "  y_pred = model.predict(X_test)\n",
        "  print(\"\\nClassification Report RandomForest:\")\n",
        "  print(classification_report(y_test, y_pred))\n"
      ],
      "metadata": {
        "id": "8UkqNPKHMI8G"
      },
      "execution_count": 56,
      "outputs": []
    },
    {
      "cell_type": "markdown",
      "source": [
        "## Check with RandomForest classifier"
      ],
      "metadata": {
        "id": "y-JAq1FdVjrC"
      }
    },
    {
      "cell_type": "code",
      "source": [
        "x_selected, _ = select_k_best_features(X, y, k_f=10)\n",
        "\n",
        "rf_train_test_split(x_selected, y)\n"
      ],
      "metadata": {
        "colab": {
          "base_uri": "https://localhost:8080/"
        },
        "id": "cLhN6LnjVdWC",
        "outputId": "5d4fd238-3c01-4fed-8979-da9dfe9b95da"
      },
      "execution_count": 57,
      "outputs": [
        {
          "output_type": "stream",
          "name": "stdout",
          "text": [
            "\n",
            "Top 10 Selected Features:\n",
            "['PARAMETER 1', 'PARAMETER 3', 'PARAMETER 7', 'PARAMETER 8', 'PARAMETER 10', 'PARAMETER 11', 'PARAMETER 13', 'PARAMETER 19', 'PARAMETER 24', 'PARAMETER 25']\n",
            "\n",
            "Classification Report RandomForest:\n",
            "              precision    recall  f1-score   support\n",
            "\n",
            "   DEFECTIVE       0.69      0.55      0.61       586\n",
            "          NO       0.93      0.96      0.94      3466\n",
            "\n",
            "    accuracy                           0.90      4052\n",
            "   macro avg       0.81      0.75      0.78      4052\n",
            "weighted avg       0.89      0.90      0.89      4052\n",
            "\n"
          ]
        }
      ]
    },
    {
      "cell_type": "markdown",
      "source": [
        "##We need to augment the data with SMOTE.\n",
        "##Check RandomForest after SMOTE"
      ],
      "metadata": {
        "id": "HvSLdkPaYSTk"
      }
    },
    {
      "cell_type": "code",
      "source": [
        "#SMOTE\n",
        "from imblearn.over_sampling import SMOTE\n",
        "smote = SMOTE(random_state=42)\n",
        "X_smote, y_smote = smote.fit_resample(x_selected, y)\n",
        "\n",
        "print(\"\\nClass distribution after SMOTE:\")\n",
        "print(pd.Series(y_smote).value_counts())\n",
        "#\n",
        "rf_train_test_split(X_smote, y_smote)\n"
      ],
      "metadata": {
        "colab": {
          "base_uri": "https://localhost:8080/"
        },
        "id": "hRg2k2NTYHmx",
        "outputId": "33f994c2-4646-429b-ce6d-31d7a40de34c"
      },
      "execution_count": 58,
      "outputs": [
        {
          "output_type": "stream",
          "name": "stdout",
          "text": [
            "\n",
            "Class distribution after SMOTE:\n",
            "DEFECTIVE\n",
            "NO           17371\n",
            "DEFECTIVE    17371\n",
            "Name: count, dtype: int64\n",
            "\n",
            "Classification Report RandomForest:\n",
            "              precision    recall  f1-score   support\n",
            "\n",
            "   DEFECTIVE       0.93      0.94      0.94      3469\n",
            "          NO       0.94      0.93      0.94      3480\n",
            "\n",
            "    accuracy                           0.94      6949\n",
            "   macro avg       0.94      0.94      0.94      6949\n",
            "weighted avg       0.94      0.94      0.94      6949\n",
            "\n"
          ]
        }
      ]
    }
  ]
}